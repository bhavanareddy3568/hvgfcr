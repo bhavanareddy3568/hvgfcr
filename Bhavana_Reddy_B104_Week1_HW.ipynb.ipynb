{
 "cells": [
  {
   "cell_type": "markdown",
   "id": "8eb62c97",
   "metadata": {},
   "source": [
    "1. Write a Python code to convert int data type to (i) float, (ii) string, and (iii) \n",
    "bool."
   ]
  },
  {
   "cell_type": "code",
   "execution_count": 1,
   "id": "279ec7dc",
   "metadata": {},
   "outputs": [
    {
     "data": {
      "text/plain": [
       "2.0"
      ]
     },
     "execution_count": 1,
     "metadata": {},
     "output_type": "execute_result"
    }
   ],
   "source": [
    "float(2)"
   ]
  },
  {
   "cell_type": "code",
   "execution_count": 6,
   "id": "f4090b80",
   "metadata": {},
   "outputs": [
    {
     "data": {
      "text/plain": [
       "'6'"
      ]
     },
     "execution_count": 6,
     "metadata": {},
     "output_type": "execute_result"
    }
   ],
   "source": [
    "str(6)"
   ]
  },
  {
   "cell_type": "code",
   "execution_count": 7,
   "id": "fe0bb4a7",
   "metadata": {},
   "outputs": [
    {
     "data": {
      "text/plain": [
       "True"
      ]
     },
     "execution_count": 7,
     "metadata": {},
     "output_type": "execute_result"
    }
   ],
   "source": [
    "bool(4)"
   ]
  },
  {
   "cell_type": "code",
   "execution_count": 8,
   "id": "58bf939c",
   "metadata": {},
   "outputs": [
    {
     "data": {
      "text/plain": [
       "True"
      ]
     },
     "execution_count": 8,
     "metadata": {},
     "output_type": "execute_result"
    }
   ],
   "source": [
    "bool(1)"
   ]
  },
  {
   "cell_type": "code",
   "execution_count": 10,
   "id": "2dbe2642",
   "metadata": {},
   "outputs": [
    {
     "data": {
      "text/plain": [
       "False"
      ]
     },
     "execution_count": 10,
     "metadata": {},
     "output_type": "execute_result"
    }
   ],
   "source": [
    "bool(0)"
   ]
  },
  {
   "cell_type": "markdown",
   "id": "0b418a86",
   "metadata": {},
   "source": [
    "Write a Python code to convert float data type to (i) int, (ii) string, and (iii)\n",
    "bool."
   ]
  },
  {
   "cell_type": "code",
   "execution_count": 11,
   "id": "f2731145",
   "metadata": {},
   "outputs": [
    {
     "data": {
      "text/plain": [
       "5"
      ]
     },
     "execution_count": 11,
     "metadata": {},
     "output_type": "execute_result"
    }
   ],
   "source": [
    "int(5.6)"
   ]
  },
  {
   "cell_type": "code",
   "execution_count": 12,
   "id": "fcfca528",
   "metadata": {},
   "outputs": [
    {
     "data": {
      "text/plain": [
       "'2.5'"
      ]
     },
     "execution_count": 12,
     "metadata": {},
     "output_type": "execute_result"
    }
   ],
   "source": [
    "str(2.5)"
   ]
  },
  {
   "cell_type": "code",
   "execution_count": 14,
   "id": "0eedd68b",
   "metadata": {},
   "outputs": [
    {
     "data": {
      "text/plain": [
       "True"
      ]
     },
     "execution_count": 14,
     "metadata": {},
     "output_type": "execute_result"
    }
   ],
   "source": [
    "bool(7.6)"
   ]
  },
  {
   "cell_type": "code",
   "execution_count": 15,
   "id": "0870d87f",
   "metadata": {},
   "outputs": [
    {
     "data": {
      "text/plain": [
       "True"
      ]
     },
     "execution_count": 15,
     "metadata": {},
     "output_type": "execute_result"
    }
   ],
   "source": [
    "bool(1.5)"
   ]
  },
  {
   "cell_type": "code",
   "execution_count": 17,
   "id": "ceb71908",
   "metadata": {},
   "outputs": [
    {
     "data": {
      "text/plain": [
       "False"
      ]
     },
     "execution_count": 17,
     "metadata": {},
     "output_type": "execute_result"
    }
   ],
   "source": [
    "bool(0.)"
   ]
  },
  {
   "cell_type": "markdown",
   "id": "83af78a8",
   "metadata": {},
   "source": [
    "3. Write a Python code to fetch ‘O’ from string “INSOFE”."
   ]
  },
  {
   "cell_type": "code",
   "execution_count": 1,
   "id": "a4f4b067",
   "metadata": {},
   "outputs": [
    {
     "data": {
      "text/plain": [
       "'O'"
      ]
     },
     "execution_count": 1,
     "metadata": {},
     "output_type": "execute_result"
    }
   ],
   "source": [
    "string=\"INSOFE\"\n",
    "string[3 ]\n"
   ]
  },
  {
   "cell_type": "markdown",
   "id": "7ae879a7",
   "metadata": {},
   "source": [
    "4. Write a Python code to fetch “SSFUL” from the string “SUCCESSFUL”."
   ]
  },
  {
   "cell_type": "code",
   "execution_count": 20,
   "id": "c57ac98f",
   "metadata": {},
   "outputs": [
    {
     "data": {
      "text/plain": [
       "'SSFUL'"
      ]
     },
     "execution_count": 20,
     "metadata": {},
     "output_type": "execute_result"
    }
   ],
   "source": [
    "name=\"SUCCESSFUL\"\n",
    "name[5: ]"
   ]
  },
  {
   "cell_type": "markdown",
   "id": "cee02ef2",
   "metadata": {},
   "source": [
    "5. Write the rules of identifiers with Python code example."
   ]
  },
  {
   "cell_type": "code",
   "execution_count": null,
   "id": "24a663f7",
   "metadata": {},
   "outputs": [],
   "source": [
    "1.the identifiers should start with an alphabet(uppercase or lowercase) or _(underscore) followed by 0 or alphabets or digits\n",
    "2.identifiers should not start with numeric values\n",
    "3.keywords cannot be used as identifiers\n",
    "4.we cannot use special symbols in identifiers"
   ]
  },
  {
   "cell_type": "code",
   "execution_count": 70,
   "id": "2d64dba5",
   "metadata": {},
   "outputs": [],
   "source": [
    "NAMWg_dt=\"ghd\""
   ]
  },
  {
   "cell_type": "code",
   "execution_count": 69,
   "id": "299ecdc9",
   "metadata": {},
   "outputs": [],
   "source": [
    "_gtd57=\"gtf\""
   ]
  },
  {
   "cell_type": "code",
   "execution_count": 68,
   "id": "d1da7c69",
   "metadata": {},
   "outputs": [
    {
     "ename": "SyntaxError",
     "evalue": "invalid syntax (<ipython-input-68-41149cbcd853>, line 1)",
     "output_type": "error",
     "traceback": [
      "\u001b[1;36m  File \u001b[1;32m\"<ipython-input-68-41149cbcd853>\"\u001b[1;36m, line \u001b[1;32m1\u001b[0m\n\u001b[1;33m    6gc=\"bh\"\u001b[0m\n\u001b[1;37m     ^\u001b[0m\n\u001b[1;31mSyntaxError\u001b[0m\u001b[1;31m:\u001b[0m invalid syntax\n"
     ]
    }
   ],
   "source": [
    "6gc=\"bh\" #started with digit"
   ]
  },
  {
   "cell_type": "code",
   "execution_count": 71,
   "id": "4b7a4632",
   "metadata": {},
   "outputs": [
    {
     "ename": "SyntaxError",
     "evalue": "invalid syntax (<ipython-input-71-4a3f2efa7acb>, line 1)",
     "output_type": "error",
     "traceback": [
      "\u001b[1;36m  File \u001b[1;32m\"<ipython-input-71-4a3f2efa7acb>\"\u001b[1;36m, line \u001b[1;32m1\u001b[0m\n\u001b[1;33m    with=\"bgf\"\u001b[0m\n\u001b[1;37m        ^\u001b[0m\n\u001b[1;31mSyntaxError\u001b[0m\u001b[1;31m:\u001b[0m invalid syntax\n"
     ]
    }
   ],
   "source": [
    "with=\"bgf\" #keyword"
   ]
  },
  {
   "cell_type": "code",
   "execution_count": 73,
   "id": "0bc7ac42",
   "metadata": {},
   "outputs": [
    {
     "ename": "SyntaxError",
     "evalue": "invalid syntax (<ipython-input-73-25b2ce40b429>, line 1)",
     "output_type": "error",
     "traceback": [
      "\u001b[1;36m  File \u001b[1;32m\"<ipython-input-73-25b2ce40b429>\"\u001b[1;36m, line \u001b[1;32m1\u001b[0m\n\u001b[1;33m    hgyfh$#%%=\"gf\"\u001b[0m\n\u001b[1;37m         ^\u001b[0m\n\u001b[1;31mSyntaxError\u001b[0m\u001b[1;31m:\u001b[0m invalid syntax\n"
     ]
    }
   ],
   "source": [
    "hgyfh$#%%=\"gf\" #special caharacters"
   ]
  },
  {
   "cell_type": "markdown",
   "id": "b81e8791",
   "metadata": {},
   "source": [
    "6. Write a Python code to fetch ‘H’ from var1 = 'Hello World!' and to fetch \n",
    "‘ytho’ from var2 = \"Python Programming\"."
   ]
  },
  {
   "cell_type": "code",
   "execution_count": 2,
   "id": "77927215",
   "metadata": {},
   "outputs": [
    {
     "data": {
      "text/plain": [
       "'H'"
      ]
     },
     "execution_count": 2,
     "metadata": {},
     "output_type": "execute_result"
    }
   ],
   "source": [
    "var1=\"Hello World!\"\n",
    "var2=\"Python Programming\"\n",
    "var1[ 0]"
   ]
  },
  {
   "cell_type": "code",
   "execution_count": 28,
   "id": "f322ac7d",
   "metadata": {},
   "outputs": [
    {
     "data": {
      "text/plain": [
       "'ytho'"
      ]
     },
     "execution_count": 28,
     "metadata": {},
     "output_type": "execute_result"
    }
   ],
   "source": [
    "var2[1:5 ]"
   ]
  },
  {
   "cell_type": "markdown",
   "id": "960bc8d0",
   "metadata": {},
   "source": [
    "7. Write a Python code to fetch alternate character from ‘Unbelievable’."
   ]
  },
  {
   "cell_type": "code",
   "execution_count": 29,
   "id": "979d7357",
   "metadata": {},
   "outputs": [
    {
     "data": {
      "text/plain": [
       "'Ubleal'"
      ]
     },
     "execution_count": 29,
     "metadata": {},
     "output_type": "execute_result"
    }
   ],
   "source": [
    "Name=\"Unbelievable\"\n",
    "Name[::2 ]"
   ]
  },
  {
   "cell_type": "markdown",
   "id": "10f6438d",
   "metadata": {},
   "source": [
    "8. Write a Python code to replace the word USA with India from “USA is a \n",
    "great Country”."
   ]
  },
  {
   "cell_type": "code",
   "execution_count": 31,
   "id": "458f545d",
   "metadata": {},
   "outputs": [
    {
     "name": "stdout",
     "output_type": "stream",
     "text": [
      "India is a great country\n"
     ]
    }
   ],
   "source": [
    "A=\"USA is a great country\"\n",
    "B=A.replace(\"USA\",\"India\")\n",
    "print(B)"
   ]
  },
  {
   "cell_type": "markdown",
   "id": "74edb318",
   "metadata": {},
   "source": [
    "9. Write a Python code to get starting index of “Great” from “India is Great \n",
    "Country”."
   ]
  },
  {
   "cell_type": "code",
   "execution_count": 32,
   "id": "1f6516d0",
   "metadata": {},
   "outputs": [
    {
     "data": {
      "text/plain": [
       "'great'"
      ]
     },
     "execution_count": 32,
     "metadata": {},
     "output_type": "execute_result"
    }
   ],
   "source": [
    "B[11:16 ]"
   ]
  },
  {
   "cell_type": "code",
   "execution_count": 45,
   "id": "40d126a2",
   "metadata": {},
   "outputs": [
    {
     "data": {
      "text/plain": [
       "11"
      ]
     },
     "execution_count": 45,
     "metadata": {},
     "output_type": "execute_result"
    }
   ],
   "source": [
    "B.find('great')"
   ]
  },
  {
   "cell_type": "markdown",
   "id": "5104bdb4",
   "metadata": {},
   "source": [
    "10.Write a Python code to convert the string “Insofe” to be all (i) uppercase, \n",
    "and (ii) lowercase"
   ]
  },
  {
   "cell_type": "code",
   "execution_count": 35,
   "id": "bedf820e",
   "metadata": {},
   "outputs": [
    {
     "name": "stdout",
     "output_type": "stream",
     "text": [
      "INSOFE\n"
     ]
    }
   ],
   "source": [
    "D=\"Insofe\"\n",
    "E=D.upper()\n",
    "print(E)"
   ]
  },
  {
   "cell_type": "code",
   "execution_count": 36,
   "id": "bd05faf1",
   "metadata": {},
   "outputs": [
    {
     "name": "stdout",
     "output_type": "stream",
     "text": [
      "insofe\n"
     ]
    }
   ],
   "source": [
    "F=D.lower()\n",
    "print(F)"
   ]
  },
  {
   "cell_type": "markdown",
   "id": "2de33438",
   "metadata": {},
   "source": [
    "11.Write a Python code to concatenate the two strings “I am “and “the Best”."
   ]
  },
  {
   "cell_type": "code",
   "execution_count": 39,
   "id": "7c0f148e",
   "metadata": {},
   "outputs": [
    {
     "name": "stdout",
     "output_type": "stream",
     "text": [
      "I am the Best\n"
     ]
    }
   ],
   "source": [
    "a=\"I am\"+\" the Best\"\n",
    "print(a)"
   ]
  },
  {
   "cell_type": "markdown",
   "id": "bc8c661a",
   "metadata": {},
   "source": [
    "12.Write a Python code to know the length of the string “INSOFE”."
   ]
  },
  {
   "cell_type": "code",
   "execution_count": 40,
   "id": "c01c2ad2",
   "metadata": {},
   "outputs": [
    {
     "data": {
      "text/plain": [
       "6"
      ]
     },
     "execution_count": 40,
     "metadata": {},
     "output_type": "execute_result"
    }
   ],
   "source": [
    "len(E)"
   ]
  },
  {
   "cell_type": "markdown",
   "id": "e5db4b84",
   "metadata": {},
   "source": [
    "13. Write a Python code to reverse the string “SUCCESSFUL”."
   ]
  },
  {
   "cell_type": "code",
   "execution_count": 83,
   "id": "a3cd3560",
   "metadata": {},
   "outputs": [
    {
     "data": {
      "text/plain": [
       "'LUFSSECCUS'"
      ]
     },
     "execution_count": 83,
     "metadata": {},
     "output_type": "execute_result"
    }
   ],
   "source": [
    "name=\"SUCCESSFUL\"\n",
    "name[::-1 ]"
   ]
  },
  {
   "cell_type": "markdown",
   "id": "97517ea5",
   "metadata": {},
   "source": [
    "14. Write a Python code using all relational operators with suitable example."
   ]
  },
  {
   "cell_type": "code",
   "execution_count": 47,
   "id": "4fa74d56",
   "metadata": {},
   "outputs": [
    {
     "data": {
      "text/plain": [
       "True"
      ]
     },
     "execution_count": 47,
     "metadata": {},
     "output_type": "execute_result"
    }
   ],
   "source": [
    "5==5 #equalsto"
   ]
  },
  {
   "cell_type": "code",
   "execution_count": 48,
   "id": "c3b17d61",
   "metadata": {},
   "outputs": [
    {
     "data": {
      "text/plain": [
       "False"
      ]
     },
     "execution_count": 48,
     "metadata": {},
     "output_type": "execute_result"
    }
   ],
   "source": [
    "5!=5 #not equals to"
   ]
  },
  {
   "cell_type": "code",
   "execution_count": 49,
   "id": "e07242ef",
   "metadata": {},
   "outputs": [
    {
     "data": {
      "text/plain": [
       "False"
      ]
     },
     "execution_count": 49,
     "metadata": {},
     "output_type": "execute_result"
    }
   ],
   "source": [
    "2>6 #greater than"
   ]
  },
  {
   "cell_type": "code",
   "execution_count": 50,
   "id": "94f7b4e5",
   "metadata": {},
   "outputs": [
    {
     "data": {
      "text/plain": [
       "True"
      ]
     },
     "execution_count": 50,
     "metadata": {},
     "output_type": "execute_result"
    }
   ],
   "source": [
    "5<7 #less than"
   ]
  },
  {
   "cell_type": "code",
   "execution_count": 51,
   "id": "64a89b74",
   "metadata": {},
   "outputs": [
    {
     "data": {
      "text/plain": [
       "True"
      ]
     },
     "execution_count": 51,
     "metadata": {},
     "output_type": "execute_result"
    }
   ],
   "source": [
    "5>=3 #greater or equals to"
   ]
  },
  {
   "cell_type": "code",
   "execution_count": 52,
   "id": "d875fa03",
   "metadata": {},
   "outputs": [
    {
     "data": {
      "text/plain": [
       "True"
      ]
     },
     "execution_count": 52,
     "metadata": {},
     "output_type": "execute_result"
    }
   ],
   "source": [
    "6<=6 #less than or equals to"
   ]
  },
  {
   "cell_type": "markdown",
   "id": "105053b9",
   "metadata": {},
   "source": [
    "15.Write a Python code using all logical operators with suitable example."
   ]
  },
  {
   "cell_type": "code",
   "execution_count": 53,
   "id": "febf19fc",
   "metadata": {},
   "outputs": [
    {
     "data": {
      "text/plain": [
       "False"
      ]
     },
     "execution_count": 53,
     "metadata": {},
     "output_type": "execute_result"
    }
   ],
   "source": [
    "5>7 and 9>4"
   ]
  },
  {
   "cell_type": "code",
   "execution_count": 54,
   "id": "63be5bde",
   "metadata": {},
   "outputs": [
    {
     "data": {
      "text/plain": [
       "True"
      ]
     },
     "execution_count": 54,
     "metadata": {},
     "output_type": "execute_result"
    }
   ],
   "source": [
    "4>2 and 9>6"
   ]
  },
  {
   "cell_type": "code",
   "execution_count": 55,
   "id": "d7539eaa",
   "metadata": {},
   "outputs": [
    {
     "data": {
      "text/plain": [
       "True"
      ]
     },
     "execution_count": 55,
     "metadata": {},
     "output_type": "execute_result"
    }
   ],
   "source": [
    "4<6 and 8>6"
   ]
  },
  {
   "cell_type": "code",
   "execution_count": 56,
   "id": "0c4ef0db",
   "metadata": {},
   "outputs": [
    {
     "data": {
      "text/plain": [
       "True"
      ]
     },
     "execution_count": 56,
     "metadata": {},
     "output_type": "execute_result"
    }
   ],
   "source": [
    "6>7 or 7>5"
   ]
  },
  {
   "cell_type": "code",
   "execution_count": 58,
   "id": "cb99c8b1",
   "metadata": {},
   "outputs": [
    {
     "data": {
      "text/plain": [
       "True"
      ]
     },
     "execution_count": 58,
     "metadata": {},
     "output_type": "execute_result"
    }
   ],
   "source": [
    "6<8 or 4>3"
   ]
  },
  {
   "cell_type": "code",
   "execution_count": 59,
   "id": "b365fcfb",
   "metadata": {},
   "outputs": [
    {
     "data": {
      "text/plain": [
       "False"
      ]
     },
     "execution_count": 59,
     "metadata": {},
     "output_type": "execute_result"
    }
   ],
   "source": [
    "5<4 or 8<7"
   ]
  },
  {
   "cell_type": "code",
   "execution_count": 60,
   "id": "3c139a57",
   "metadata": {},
   "outputs": [
    {
     "data": {
      "text/plain": [
       "True"
      ]
     },
     "execution_count": 60,
     "metadata": {},
     "output_type": "execute_result"
    }
   ],
   "source": [
    "not(4>5)"
   ]
  },
  {
   "cell_type": "code",
   "execution_count": 61,
   "id": "c6499a57",
   "metadata": {},
   "outputs": [
    {
     "data": {
      "text/plain": [
       "False"
      ]
     },
     "execution_count": 61,
     "metadata": {},
     "output_type": "execute_result"
    }
   ],
   "source": [
    "not(5<8)"
   ]
  },
  {
   "cell_type": "code",
   "execution_count": 62,
   "id": "701ab7a5",
   "metadata": {},
   "outputs": [
    {
     "data": {
      "text/plain": [
       "True"
      ]
     },
     "execution_count": 62,
     "metadata": {},
     "output_type": "execute_result"
    }
   ],
   "source": [
    "not(7==8)"
   ]
  },
  {
   "cell_type": "code",
   "execution_count": 63,
   "id": "dcbaeb7a",
   "metadata": {},
   "outputs": [
    {
     "data": {
      "text/plain": [
       "False"
      ]
     },
     "execution_count": 63,
     "metadata": {},
     "output_type": "execute_result"
    }
   ],
   "source": [
    "not(4==4)"
   ]
  }
 ],
 "metadata": {
  "kernelspec": {
   "display_name": "Python 3",
   "language": "python",
   "name": "python3"
  },
  "language_info": {
   "codemirror_mode": {
    "name": "ipython",
    "version": 3
   },
   "file_extension": ".py",
   "mimetype": "text/x-python",
   "name": "python",
   "nbconvert_exporter": "python",
   "pygments_lexer": "ipython3",
   "version": "3.8.8"
  }
 },
 "nbformat": 4,
 "nbformat_minor": 5
}
